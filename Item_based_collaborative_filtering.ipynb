{
 "cells": [
  {
   "cell_type": "markdown",
   "metadata": {},
   "source": [
    "Item based filtering compute similarity b/t every two items based user purchase behavior. \n",
    "we first find the 10 most liked items for user a.\n",
    "Then we find top 40 most relate items to the top 10 items user a liked."
   ]
  },
  {
   "cell_type": "code",
   "execution_count": 1,
   "metadata": {},
   "outputs": [],
   "source": [
    "from MovieLens import MovieLens\n",
    "from surprise import KNNBasic\n",
    "import heapq\n",
    "from collections import defaultdict\n",
    "from operator import itemgetter\n",
    "from surprise.model_selection import LeaveOneOut\n",
    "from RecommenderMetrics import RecommenderMetrics\n",
    "from EvaluationData import EvaluationData"
   ]
  },
  {
   "cell_type": "code",
   "execution_count": 2,
   "metadata": {},
   "outputs": [],
   "source": [
    "def LoadMovieLensData():\n",
    "    ml=MovieLens()\n",
    "    data=ml.loadMovieLensLatestSmall()\n",
    "    print('computing movie popularity ranks, later we will use this to measure novelty...')\n",
    "    rankings = ml.getPopularityRanks()\n",
    "    return (ml, data, rankings)"
   ]
  },
  {
   "cell_type": "code",
   "execution_count": 3,
   "metadata": {},
   "outputs": [
    {
     "name": "stdout",
     "output_type": "stream",
     "text": [
      "computing movie popularity ranks, later we will use this to measure novelty...\n"
     ]
    }
   ],
   "source": [
    "ml, data, rankings = LoadMovieLensData()"
   ]
  },
  {
   "cell_type": "code",
   "execution_count": 4,
   "metadata": {},
   "outputs": [],
   "source": [
    "evalData = EvaluationData(data, rankings)"
   ]
  },
  {
   "cell_type": "code",
   "execution_count": 5,
   "metadata": {},
   "outputs": [],
   "source": [
    "trainSet= evalData.GetLOOCVTrainSet()"
   ]
  },
  {
   "cell_type": "code",
   "execution_count": 6,
   "metadata": {},
   "outputs": [
    {
     "name": "stdout",
     "output_type": "stream",
     "text": [
      "Computing the cosine similarity matrix...\n",
      "Done computing similarity matrix.\n",
      "Computing the cosine similarity matrix...\n",
      "Done computing similarity matrix.\n",
      "[1.         0.96330706 0.92255278 0.9349689  0.95372125 0.93300536\n",
      " 0.96062288 0.94569115 0.89626514 0.96964855]\n"
     ]
    }
   ],
   "source": [
    "# calculate the similarity matrix. Using surprise package.\n",
    "\n",
    "sim_options= {'name':'cosine','user_based': False}\n",
    "\n",
    "model=KNNBasic(sim_options=sim_options)\n",
    "model.fit(trainSet)\n",
    "simMatrix= model.compute_similarities()\n",
    "\n",
    "print(simMatrix[0][:10])\n"
   ]
  },
  {
   "cell_type": "code",
   "execution_count": 7,
   "metadata": {},
   "outputs": [],
   "source": [
    "leftOutTestSet= evalData.GetLOOCVTestSet()"
   ]
  },
  {
   "cell_type": "code",
   "execution_count": 8,
   "metadata": {},
   "outputs": [],
   "source": [
    "# get topN recommendations\n",
    "\n",
    "topN= defaultdict(list)\n",
    "k=10\n",
    "\n",
    "for uiid in range(trainSet.n_users):\n",
    "    \n",
    "    # find k items the user liked the most\n",
    "    userRatings = trainSet.ur[uiid]\n",
    "    KNeighbors = heapq.nlargest(k, userRatings, key=lambda x: x[1])\n",
    "    \n",
    "    # for every item on their top liked, we find items most similiar to that item \n",
    "    candidates = defaultdict(float)\n",
    "    for itemID, rating in KNeighbors:\n",
    "        SimilarityRow= simMatrix[itemID]\n",
    "        for innerID, score in enumerate(SimilarityRow):\n",
    "            candidates[innerID]+= score * (rating/5.0)\n",
    "            \n",
    "    # build a dictionary of movies the subject has already watched\n",
    "    watched={}\n",
    "    for item, rating in trainSet.ur[uiid]:\n",
    "        watched[item]=1\n",
    "        \n",
    "    # Get top-rated items from similar users that our subject hasn't watched yet: top 40 recommendations\n",
    "\n",
    "    loop=0\n",
    "    for item, ratingSum in sorted(candidates.items(),key=itemgetter(1),reverse=True):\n",
    "        if item not in watched:\n",
    "            movie_id=trainSet.to_raw_iid(item)\n",
    "            topN[int(trainSet.to_raw_uid(uiid))].append((int(movie_id), ratingSum))\n",
    "            loop+=1\n",
    "            if loop > 40:\n",
    "                break\n",
    "    "
   ]
  },
  {
   "cell_type": "markdown",
   "metadata": {},
   "source": [
    "# evaluating topN using hit rate:\n"
   ]
  },
  {
   "cell_type": "code",
   "execution_count": 9,
   "metadata": {},
   "outputs": [
    {
     "name": "stdout",
     "output_type": "stream",
     "text": [
      "HR 0.004470938897168405\n"
     ]
    }
   ],
   "source": [
    "print(\"HR\",RecommenderMetrics.HitRate(topN, leftOutTestSet))"
   ]
  },
  {
   "cell_type": "code",
   "execution_count": null,
   "metadata": {},
   "outputs": [],
   "source": []
  }
 ],
 "metadata": {
  "kernelspec": {
   "display_name": "Python 3",
   "language": "python",
   "name": "python3"
  },
  "language_info": {
   "codemirror_mode": {
    "name": "ipython",
    "version": 3
   },
   "file_extension": ".py",
   "mimetype": "text/x-python",
   "name": "python",
   "nbconvert_exporter": "python",
   "pygments_lexer": "ipython3",
   "version": "3.5.5"
  }
 },
 "nbformat": 4,
 "nbformat_minor": 2
}
