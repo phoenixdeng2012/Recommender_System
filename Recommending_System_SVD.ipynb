{
 "cells": [
  {
   "cell_type": "markdown",
   "metadata": {},
   "source": [
    "This notebook uses SVD to build a recommender system for movies."
   ]
  },
  {
   "cell_type": "code",
   "execution_count": 1,
   "metadata": {},
   "outputs": [],
   "source": [
    "from MovieLens import MovieLens\n",
    "from surprise import SVD, SVDpp\n",
    "from Evaluator import Evaluator\n"
   ]
  },
  {
   "cell_type": "code",
   "execution_count": 2,
   "metadata": {},
   "outputs": [],
   "source": [
    "def LoadMovieLensData():\n",
    "    ml=MovieLens()\n",
    "    data=ml.loadMovieLensLatestSmall()\n",
    "    rankings=ml.getPopularityRanks()\n",
    "    print('done loading data')\n",
    "    return (ml, data, rankings)"
   ]
  },
  {
   "cell_type": "code",
   "execution_count": 3,
   "metadata": {},
   "outputs": [
    {
     "name": "stdout",
     "output_type": "stream",
     "text": [
      "done loading data\n"
     ]
    }
   ],
   "source": [
    "ml, evaluationData, rankings= LoadMovieLensData()"
   ]
  },
  {
   "cell_type": "code",
   "execution_count": 4,
   "metadata": {},
   "outputs": [],
   "source": [
    "evaluator=Evaluator(evaluationData, rankings)"
   ]
  },
  {
   "cell_type": "code",
   "execution_count": 5,
   "metadata": {},
   "outputs": [],
   "source": [
    "svd= SVD()\n",
    "evaluator.AddAlgorithm(svd, 'svd')"
   ]
  },
  {
   "cell_type": "code",
   "execution_count": 6,
   "metadata": {},
   "outputs": [],
   "source": [
    "svdplusplus= SVDpp()\n",
    "evaluator.AddAlgorithm(svdplusplus, 'svd++')"
   ]
  },
  {
   "cell_type": "code",
   "execution_count": 7,
   "metadata": {},
   "outputs": [
    {
     "name": "stdout",
     "output_type": "stream",
     "text": [
      "Evaluating  svd ...\n",
      "Evaluating accuracy...\n",
      "Analysis complete.\n",
      "Evaluating  svd++ ...\n",
      "Evaluating accuracy...\n",
      "Analysis complete.\n",
      "\n",
      "\n",
      "Algorithm  RMSE       MAE       \n",
      "svd        0.9054     0.7010    \n",
      "svd++      0.8949     0.6895    \n",
      "\n",
      "Legend:\n",
      "\n",
      "RMSE:      Root Mean Squared Error. Lower values mean better accuracy.\n",
      "MAE:       Mean Absolute Error. Lower values mean better accuracy.\n",
      "\n",
      "Using recommender  svd\n",
      "\n",
      "Building recommendation model...\n",
      "Computing recommendations...\n",
      "\n",
      "We recommend:\n",
      "Casablanca (1942) 4.649140578872909\n",
      "Monty Python's The Meaning of Life (1983) 4.460887540339456\n",
      "Star Wars: Episode IV - A New Hope (1977) 4.412698149889582\n",
      "Hurt Locker, The (2008) 4.406935662392834\n",
      "Graduate, The (1967) 4.3751131649125075\n",
      "Rear Window (1954) 4.351066738486898\n",
      "Prophet, A (Un ProphÌ¬te) (2009) 4.341619676135767\n",
      "Stand by Me (1986) 4.33420154941339\n",
      "Godfather: Part II, The (1974) 4.318249030646044\n",
      "Wallace & Gromit: A Close Shave (1995) 4.312052257102536\n",
      "\n",
      "Using recommender  svd++\n",
      "\n",
      "Building recommendation model...\n",
      "Computing recommendations...\n",
      "\n",
      "We recommend:\n",
      "Lock, Stock & Two Smoking Barrels (1998) 4.401536162935114\n",
      "Paris Is Burning (1990) 4.37018201431377\n",
      "Inception (2010) 4.342040155949531\n",
      "Treasure of the Sierra Madre, The (1948) 4.330807419163393\n",
      "His Girl Friday (1940) 4.327688785947475\n",
      "Usual Suspects, The (1995) 4.3094437628708455\n",
      "Gladiator (1992) 4.297572269181726\n",
      "Welcome to the Dollhouse (1995) 4.291692896701634\n",
      "Happiness (1998) 4.290803838874292\n",
      "It Happened One Night (1934) 4.25023882823725\n"
     ]
    }
   ],
   "source": [
    "evaluator.Evaluate(False)\n",
    "evaluator.SampleTopNRecs(ml)"
   ]
  },
  {
   "cell_type": "markdown",
   "metadata": {},
   "source": [
    "# Hyperparameter tuning for SVD"
   ]
  },
  {
   "cell_type": "code",
   "execution_count": 11,
   "metadata": {},
   "outputs": [
    {
     "name": "stdout",
     "output_type": "stream",
     "text": [
      "Best RMSE score attained:  0.8982639167717396\n",
      "{'lr_all': 0.005, 'n_epochs': 20, 'n_factors': 50}\n"
     ]
    }
   ],
   "source": [
    "from surprise.model_selection import GridSearchCV\n",
    "\n",
    "param_grid = {'n_epochs': [20, 30],\n",
    "             'lr_all': [0.005, 0.01],\n",
    "             'n_factors': [50, 100]}\n",
    "\n",
    "gs= GridSearchCV(SVD, param_grid, measures=['rmse'], cv=3)\n",
    "gs.fit(evaluationData)\n",
    "print('Best RMSE score attained: ', gs.best_score['rmse'])\n",
    "params=gs.best_params['rmse']\n",
    "print(params)"
   ]
  },
  {
   "cell_type": "code",
   "execution_count": 16,
   "metadata": {},
   "outputs": [
    {
     "name": "stdout",
     "output_type": "stream",
     "text": [
      "RMSE: 0.8999\n"
     ]
    },
    {
     "data": {
      "text/plain": [
       "0.899857436364382"
      ]
     },
     "execution_count": 16,
     "metadata": {},
     "output_type": "execute_result"
    }
   ],
   "source": [
    "from surprise.model_selection import train_test_split\n",
    "from surprise.accuracy import rmse\n",
    "trainSet, testSet = train_test_split(evaluationData, test_size=.25, random_state=1)\n",
    "SVD_tune= SVD(n_epochs=params['n_epochs'], lr_all=params['lr_all'], n_factors= params['n_factors'])\n",
    "SVD_tune.fit(trainSet)\n",
    "predictions = SVD_tune.test(testSet)\n",
    "rmse(predictions)"
   ]
  },
  {
   "cell_type": "code",
   "execution_count": 21,
   "metadata": {},
   "outputs": [
    {
     "name": "stdout",
     "output_type": "stream",
     "text": [
      "Computing recommendations...\n",
      "\n",
      "We recommend:\n",
      "Rear Window (1954) 4.505166551211121\n",
      "All About Eve (1950) 4.497459674244014\n",
      "City of God (Cidade de Deus) (2002) 4.381015143632628\n",
      "African Queen, The (1951) 4.3539168298183775\n",
      "Producers, The (1968) 4.352272743776446\n",
      "Maltese Falcon, The (1941) 4.2755665948006305\n",
      "American Beauty (1999) 4.2463112878166624\n",
      "Sunset Blvd. (a.k.a. Sunset Boulevard) (1950) 4.244799539483468\n",
      "Being John Malkovich (1999) 4.241363213245121\n",
      "Strangers on a Train (1951) 4.238194359795351\n"
     ]
    }
   ],
   "source": [
    "# sample topN recommendations for user 85, movies he has never seen.\n",
    "\n",
    "testSubject= 85\n",
    "trainSet = evaluationData.build_full_trainset()\n",
    "\n",
    "def GetAntiTestSetForUser(trainSet, testSubject):\n",
    "    fill = trainSet.global_mean\n",
    "    anti_testset = []\n",
    "    u = trainSet.to_inner_uid(str(testSubject))\n",
    "    user_items = set([j for (j, _) in trainSet.ur[u]])\n",
    "    anti_testset += [(trainSet.to_raw_uid(u), trainSet.to_raw_iid(i), fill) for\n",
    "                        i in trainSet.all_items() if i not in user_items]\n",
    "    return anti_testset\n",
    "\n",
    "SVD_tune.fit(trainSet)\n",
    "\n",
    "print(\"Computing recommendations...\")\n",
    "testSet = GetAntiTestSetForUser(trainSet, testSubject)\n",
    "        \n",
    "predictions = SVD_tune.test(testSet)\n",
    "            \n",
    "recommendations = []\n",
    "            \n",
    "print (\"\\nWe recommend:\")\n",
    "for userID, movieID, actualRating, estimatedRating, _ in predictions:\n",
    "    intMovieID = int(movieID)\n",
    "    recommendations.append((intMovieID, estimatedRating))\n",
    "            \n",
    "recommendations.sort(key=lambda x: x[1], reverse=True)\n",
    "\n",
    "for ratings in recommendations[:10]:\n",
    "    print(ml.getMovieName(ratings[0]), ratings[1])"
   ]
  },
  {
   "cell_type": "code",
   "execution_count": null,
   "metadata": {},
   "outputs": [],
   "source": []
  }
 ],
 "metadata": {
  "kernelspec": {
   "display_name": "Python 3",
   "language": "python",
   "name": "python3"
  },
  "language_info": {
   "codemirror_mode": {
    "name": "ipython",
    "version": 3
   },
   "file_extension": ".py",
   "mimetype": "text/x-python",
   "name": "python",
   "nbconvert_exporter": "python",
   "pygments_lexer": "ipython3",
   "version": "3.5.5"
  }
 },
 "nbformat": 4,
 "nbformat_minor": 2
}
